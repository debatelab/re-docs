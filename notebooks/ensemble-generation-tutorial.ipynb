{
 "cells": [
  {
   "cell_type": "markdown",
   "metadata": {},
   "source": [
    "# Ensemble generation with the module `rethon.ensemble_generation`"
   ]
  },
  {
   "cell_type": "markdown",
   "metadata": {},
   "source": [
    "The module [rethon.ensemble_generation](https://debatelab.github.io/re-docs/api-docs/api-ensemble-generation.html) contains several methods and classes to generate RE ensembles using the different implementations that are provided in the package `re-python`.\n",
    "\n",
    "There are four classes with the following class hierarchy:\n",
    "\n",
    "+ `EnsembleGenerator`\n",
    "   + `SimpleEnsembleGenerator`\n",
    "   + `GlobalREEnsembleGenerator`\n",
    "   + `LocalREEnsembleGenerator`"
   ]
  },
  {
   "cell_type": "markdown",
   "metadata": {},
   "source": [
    "## Generating ensembles with the `EnsembleGenerator` "
   ]
  },
  {
   "cell_type": "markdown",
   "metadata": {},
   "source": [
    "The ensemble generator provides different [iterators](https://www.w3schools.com/python/python_iterators.asp) and has to be instantiated with \n",
    "\n",
    "+ a list of dialectical structures in a simplified format (arguments are represented as integer lists),\n",
    "+ the size of the sentence pool,\n",
    "+ a list of initial commitments,\n",
    "+ a list of model-parameters,\n",
    "+ a list of implementations of `Position`, `DialecticalStructure` and `ReflectiveEquilibrium` and\n",
    "+ a switch indicating whether all branches of each model run should be created as well.\n",
    "\n",
    "The iterator will loop through the cartesian product of the given model implementations, dialectical structures, different model parameters, initial commitments and, if desired, through all branches. \n",
    "\n",
    "Let's take a look at a simple example. The algorithm will take standard model parameters if we do not specify model parameters and it will take a standard implementation if we do not specify implementations. The simple example will use one dialectical structure and two initial commitments: "
   ]
  },
  {
   "cell_type": "code",
   "execution_count": 1,
   "metadata": {},
   "outputs": [
    {
     "name": "stdout",
     "output_type": "stream",
     "text": [
      "The model run ended with {1, 3, 4, 5, -6, -2} as its final commitments.\n",
      "The model run ended with {1, 3, 4, 5, -6, -2} as its final commitments.\n",
      "New ensemble with all branches:\n",
      "The model run ended with {1, 3, 4, 5, -6, -2} as its final commitments.\n",
      "The model run ended with {2, 5, 6, 7, -4, -1} as its final commitments.\n",
      "The model run ended with {1, 3, 4, 5, -6, -2} as its final commitments.\n"
     ]
    }
   ],
   "source": [
    "from rethon.ensemble_generation import EnsembleGenerator \n",
    "\n",
    "# the standard example with a sentence pool n=7\n",
    "n = 7\n",
    "arguments = [[1, 3],[1, 4],[1, 5],[1, -6], [2, -4],[2, 5],[2, 6],[2, 7]]\n",
    "dia_structure_list = [arguments]\n",
    "# two initial commitments\n",
    "init_coms_1 = {3, 4, 5}\n",
    "init_coms_2 = {3, 4, 5, 6, 7}\n",
    "coms_list = [init_coms_1, init_coms_2]\n",
    "\n",
    "ensemble_gen = EnsembleGenerator(arguments_list = dia_structure_list, \n",
    "                                 n_sentence_pool = n,\n",
    "                                 initial_commitments_list = coms_list)\n",
    "# looping through the ensemble\n",
    "for model_run in ensemble_gen.ensemble_iter():\n",
    "    print(f\"The model run ended with {model_run.state().last_commitments()} as its final commitments.\")\n",
    "\n",
    "print(\"New ensemble with all branches:\")\n",
    "# running all branches and looping through them:\n",
    "ensemble_gen = EnsembleGenerator(arguments_list = dia_structure_list, \n",
    "                                 n_sentence_pool = n,\n",
    "                                 initial_commitments_list = coms_list,\n",
    "                                 create_branches = True)\n",
    "for model_run in ensemble_gen.ensemble_iter():\n",
    "    print(f\"The model run ended with {model_run.state().last_commitments()} as its final commitments.\")"
   ]
  },
  {
   "cell_type": "markdown",
   "metadata": {},
   "source": [
    "The module provides several helper methods to produce random arguments, initial commitments and a variation of model parameters that can be used to generate more complex ensembles:"
   ]
  },
  {
   "cell_type": "code",
   "execution_count": 2,
   "metadata": {},
   "outputs": [
    {
     "name": "stdout",
     "output_type": "stream",
     "text": [
      "Generated 24 ensembles.\n",
      "The model run ended with {1, 3, -6, -5, -4, -2} as its final commitments.\n",
      "The model run ended with {1, 4, -6, -5, -3, -2} as its final commitments.\n",
      "The model run ended with {1, 3, 4, 5, -6, -2} as its final commitments.\n",
      "The model run ended with {1, 4, -6, -5, -3, -2} as its final commitments.\n",
      "The model run ended with {1, 3, 4, 5, -6, -2} as its final commitments.\n",
      "The model run ended with {1, 4, -6, -5, -3, -2} as its final commitments.\n",
      "The model run ended with {1, 3, 5, -6, -4, -2} as its final commitments.\n",
      "The model run ended with {1, 2, 4, 6, -5, -3} as its final commitments.\n",
      "The model run ended with {1, 3, 5, -6, -4, -2} as its final commitments.\n",
      "The model run ended with {1, 5, -4, -3, -2} as its final commitments.\n",
      "The model run ended with {1, 3, 5, -4, -2} as its final commitments.\n",
      "The model run ended with {1, 3, 4, 6, -5, -2} as its final commitments.\n",
      "The model run ended with {1, 3, 4, 5, -6, -2} as its final commitments.\n",
      "The model run ended with {1, 4, -6, -5, -3, -2} as its final commitments.\n",
      "The model run ended with {1, 3, 4, 5, -6, -2} as its final commitments.\n",
      "The model run ended with {1, 4, -6, -5, -2} as its final commitments.\n",
      "The model run ended with {1, 3, 4, 5, -6, -2} as its final commitments.\n",
      "The model run ended with {1, 4, -6, -5, -3, -2} as its final commitments.\n",
      "The model run ended with {1, 3, 5, -6, -4, -2} as its final commitments.\n",
      "The model run ended with {1, 4, 5, 6, -3, -2} as its final commitments.\n",
      "The model run ended with {1, 3, 5, -4, -2} as its final commitments.\n",
      "The model run ended with {1, 4, 5, -3, -2} as its final commitments.\n",
      "The model run ended with {1, 3, 5, -4, -2} as its final commitments.\n",
      "The model run ended with {1, 3, 4, 6, -5, -2} as its final commitments.\n"
     ]
    }
   ],
   "source": [
    "from rethon.ensemble_generation import EnsembleGenerator\n",
    "from rethon.ensemble_generation import create_random_argument_list, standard_model_params_varied_alphas\n",
    "from rethon.ensemble_generation import random_position_as_set, create_random_arguments2\n",
    "\n",
    "# Sentence pool\n",
    "n=6\n",
    "# Two implementations:\n",
    "implementations = [{'module_name': 'rethon.model',\n",
    "                    'position_class_name':'StandardPosition',\n",
    "                    'dialectical_structure_class_name': 'DAGDialecticalStructure',\n",
    "                    'reflective_equilibrium_class_name': 'StandardGlobalReflectiveEquilibrium'},\n",
    "                   {'module_name': 'rethon.set_implementation',\n",
    "                    'position_class_name':'SetBasedPosition',\n",
    "                    'dialectical_structure_class_name': 'DAGSetBasedDialecticalStructure',\n",
    "                    'reflective_equilibrium_class_name': 'GlobalSetBasedReflectiveEquilibrium'\n",
    "                    }]\n",
    "\n",
    "# Two random dialectical structures with 7 arguments each\n",
    "n_dialectical_structures = 2\n",
    "arguments_list = [create_random_arguments2(n_sentences=n, \n",
    "                                           n_arguments=7,\n",
    "                                           n_max_premises=2) for i in range(n_dialectical_structures)]\n",
    "\n",
    "# Standard model parameters with varied alpha weights\n",
    "model_parameters_list = list(standard_model_params_varied_alphas(alpha_resolution =3))\n",
    "   \n",
    "# Two random initial commitments\n",
    "n_positions = 2\n",
    "coms_list = [random_position_as_set(n_sentences = n) for i in range(n_positions)]\n",
    "    \n",
    "\n",
    "ensemble_gen = EnsembleGenerator(arguments_list = arguments_list, \n",
    "                                 n_sentence_pool = n,\n",
    "                                 initial_commitments_list = coms_list,\n",
    "                                 model_parameters_list = model_parameters_list,\n",
    "                                 implementations = implementations)\n",
    "\n",
    "model_runs = list(ensemble_gen.ensemble_iter())\n",
    "print(f\"Generated {len(model_runs)} ensembles.\")\n",
    "# looping through the ensemble\n",
    "for model_run in model_runs:\n",
    "    print(f\"The model run ended with {model_run.state().last_commitments()} as its final commitments.\")"
   ]
  },
  {
   "cell_type": "markdown",
   "metadata": {},
   "source": [
    "### Using json serialization to serialize the model runs"
   ]
  },
  {
   "cell_type": "markdown",
   "metadata": {},
   "source": [
    "By using the module `rethon.util` you can serialize the resulting model runs in the json format---for instance, in the following way:"
   ]
  },
  {
   "cell_type": "code",
   "execution_count": 3,
   "metadata": {},
   "outputs": [],
   "source": [
    "from rethon.util import re_dump\n",
    "from os import getcwd, path\n",
    "\n",
    "# serializing the ensemble JSON into a file\n",
    "with open(file=path.join(getcwd(), 'ensemble_as_json.json'), mode='w') as output_file:\n",
    "    re_dump({'ensemble': model_runs}, output_file, indent=4)"
   ]
  },
  {
   "cell_type": "markdown",
   "metadata": {},
   "source": [
    "## Generating ensemble data"
   ]
  },
  {
   "cell_type": "markdown",
   "metadata": {},
   "source": [
    "The method `ensemble_items_iter` can be used to generate data of your ensembles by **defining data items** that are generated for each model run. The method `ensemble_items_iter` will return a dictionary with these data items for each model run.\n",
    "\n",
    "Data items can be defined by using the `add_item` method of `EnsembleGenerator`. The function expects a key for the data item and a function with `EnsembleGenerator` as one argument. The idea: The ensemble generator will call this function to generate the data item for each model run. The ensemble generator provides several methods that you can use to define a particular data item. \n",
    "\n",
    "Let's have a look at a simple example: We want to define a data item that stores the last commitments:"
   ]
  },
  {
   "cell_type": "code",
   "execution_count": 4,
   "metadata": {},
   "outputs": [
    {
     "name": "stdout",
     "output_type": "stream",
     "text": [
      "The model run produced the following data items:  {'last_coms': {1, 3, 4, 5, -6, -2}}.\n",
      "The model run produced the following data items:  {'last_coms': {2, 5, 6, 7, -4, -1}}.\n"
     ]
    }
   ],
   "source": [
    "from rethon.ensemble_generation import EnsembleGenerator \n",
    "\n",
    "# our standard example with a sentence pool n=7\n",
    "n = 7\n",
    "arguments = [[1, 3],[1, 4],[1, 5],[1, -6], [2, -4],[2, 5],[2, 6],[2, 7]]\n",
    "dia_structure_list = [arguments]\n",
    "init_coms_1 = {3, 4, 5}\n",
    "init_coms_2 = {3, 4, 5, 6, 7}\n",
    "coms_list = [init_coms_1, init_coms_2]\n",
    "\n",
    "ensemble_gen = EnsembleGenerator(arguments_list = dia_structure_list, \n",
    "                                 n_sentence_pool = n,\n",
    "                                 initial_commitments_list = coms_list)\n",
    "\n",
    "# defining the function\n",
    "def data_last_coms(ensemble_generator):\n",
    "    return ensemble_generator.state().last_commitments()\n",
    "# adding the data item\n",
    "ensemble_gen.add_item('last_coms', data_last_coms)\n",
    "\n",
    "# looping through the ensemble using the item_iter\n",
    "for model_run_data_items in ensemble_gen.ensemble_items_iter():\n",
    "    print(f\"The model run produced the following data items:  {model_run_data_items}.\")"
   ]
  },
  {
   "cell_type": "markdown",
   "metadata": {},
   "source": [
    "You can use ananymous functions to add data fields in a compact way: "
   ]
  },
  {
   "cell_type": "code",
   "execution_count": 5,
   "metadata": {},
   "outputs": [
    {
     "name": "stdout",
     "output_type": "stream",
     "text": [
      "The model run produced the following data items:  {'last_coms': {1, 3, 4, 5, -6, -2}, 'last_theory': {1}}.\n",
      "The model run produced the following data items:  {'last_coms': {1, 3, 4, 5, -6, -2}, 'last_theory': {1}}.\n"
     ]
    }
   ],
   "source": [
    "# adding the data item\n",
    "ensemble_gen.add_item('last_theory', lambda x: x.state().last_theory())\n",
    "\n",
    "# looping through the ensemble using the item_iter\n",
    "for model_run_data_items in ensemble_gen.ensemble_items_iter():\n",
    "    print(f\"The model run produced the following data items:  {model_run_data_items}.\")"
   ]
  },
  {
   "cell_type": "markdown",
   "metadata": {},
   "source": [
    "In a similar way, you have access to the RE instance itself and the dialectical structure of each model run. Refer to the [api docs](https://debatelab.github.io/re-docs/api-docs/api-ensemble-generation.html#ensemblegenerator) for more information. "
   ]
  },
  {
   "cell_type": "markdown",
   "metadata": {},
   "source": [
    "### Generating ensemble data with standard data items "
   ]
  },
  {
   "cell_type": "markdown",
   "metadata": {},
   "source": [
    "The classes `SimpleEnsembleGenerator`, `GlobalREEnsembleGenerator`, `LocalREEnsembleGenerator` have already a bunch of predefined data fields that can be extended by additional data items if you need them. (For details refer to the [api-docs](https://debatelab.github.io/re-docs/api-docs/api-ensemble-generation.html).)\n",
    "\n",
    "+ `SimpleEnsembleGenerator`: Defines data fields that should work well with every implementation. Depending on whether branches are created, the generator will add fields for all fixed points for each model run.\n",
    "+ `GlobalREEnsembleGenerator`: Extends `SimpleEnsembleGenerator` with additional data items that are available for globally searching RE processes.\n",
    "+ `LocalREEnsembleGenerator`: Extends `SimpleEnsembleGenerator` with additional data items that are available for locally searching RE processes."
   ]
  },
  {
   "cell_type": "code",
   "execution_count": 6,
   "metadata": {},
   "outputs": [
    {
     "name": "stdout",
     "output_type": "stream",
     "text": [
      "The model run produced the following data items:  {'model_name': 'StandardModel', 'ds': [[1, 3], [1, 4], [1, 5], [1, -6], [2, -4], [2, 5], [2, 6], [2, 7]], 'n_sentence_pool': 7, 'ds_arg_size': 8, 'ds_infer_dens': 0.26143928550824114, 'ds_n_consistent_complete_positions': 36, 'ds_mean_prem': 2, 'ds_variance_prem': 0, 'tau_truths': set(), 'principles': [(1, 4), (2, 4)], 'account_penalties': [0.0, 0.3, 1.0, 1.0], 'faithfulness_penalties': [0.0, 0.0, 1.0, 1.0], 'weight_account': 0.35, 'weight_systematicity': 0.55, 'weight_faithfulness': 0.1, 'init_coms': {3, 4, 5}, 'init_coms_size': 3, 'init_coms_n_tau_truths': 0, 'init_coms_n_tau_falsehoods': 0, 'init_coms_min_ax_bases': [{3, 4, 5}], 'n_init_coms_min_ax_base': 3, 'init_coms_n_consistent_complete_positions': 6, 'init_coms_dia_consistent': True, 'init_coms_closed': False, 'fixed_point_coms': {1, 3, 4, 5, -6, -2}, 'fixed_point_coms_size': 6, 'fixed_point_coms_n_tau_truths': 0, 'fixed_point_coms_n_tau_falsehoods': 0, 'fixed_point_coms_closed': True, 'fixed_point_coms_consistent': True, 'fixed_point_coms_n_consistent_complete_positions': 2, 'fixed_point_coms_min_ax_bases': [{1}], 'n_fixed_point_coms_min_ax_base': 1, 'fixed_point_coms_min_ax_bases_theory': [set()], 'n_fixed_point_coms_min_ax_base_theory': 0, 'fixed_point_theory': {1}, 'fixed_point_theory_closure': {1, 3, 4, 5, -6, -2}, 'fixed_point_theory_axioms': [{1}], 'achievements_evolution': [0, 0.9942142852544784, 1.0, 1.0, 1.0, 1.0], 'fixed_point_dia_consistent': True, 'init_final_coms_simple_hamming': 3, 'init_final_coms_hamming': 3, 'init_final_coms_contradictions': 0, 'init_final_coms_expansions': 3, 'init_final_coms_contractions': 0, 'init_final_coms_identities': 4, 'random_choices': [], 'n_random_choices': 0, 'coms_evolution': [{3, 4, 5}, {1, 3, 4, 5, -6, -2}, {1, 3, 4, 5, -6, -2}], 'theory_evolution': [{1}, {1}, {1}], 'process_length': 6}.\n",
      "The model run produced the following data items:  {'model_name': 'StandardModel', 'ds': [[1, 3], [1, 4], [1, 5], [1, -6], [2, -4], [2, 5], [2, 6], [2, 7]], 'n_sentence_pool': 7, 'ds_arg_size': 8, 'ds_infer_dens': 0.26143928550824114, 'ds_n_consistent_complete_positions': 36, 'ds_mean_prem': 2, 'ds_variance_prem': 0, 'tau_truths': set(), 'principles': [(1, 4), (2, 4)], 'account_penalties': [0.0, 0.3, 1.0, 1.0], 'faithfulness_penalties': [0.0, 0.0, 1.0, 1.0], 'weight_account': 0.35, 'weight_systematicity': 0.55, 'weight_faithfulness': 0.1, 'init_coms': {3, 4, 5, 6, 7}, 'init_coms_size': 5, 'init_coms_n_tau_truths': 0, 'init_coms_n_tau_falsehoods': 0, 'init_coms_min_ax_bases': [{3, 4, 5, 6, 7}], 'n_init_coms_min_ax_base': 5, 'init_coms_n_consistent_complete_positions': 1, 'init_coms_dia_consistent': True, 'init_coms_closed': False, 'fixed_point_coms': {1, 3, 4, 5, -6, -2}, 'fixed_point_coms_size': 6, 'fixed_point_coms_n_tau_truths': 0, 'fixed_point_coms_n_tau_falsehoods': 0, 'fixed_point_coms_closed': True, 'fixed_point_coms_consistent': True, 'fixed_point_coms_n_consistent_complete_positions': 2, 'fixed_point_coms_min_ax_bases': [{1}], 'n_fixed_point_coms_min_ax_base': 1, 'fixed_point_coms_min_ax_bases_theory': [set()], 'n_fixed_point_coms_min_ax_base_theory': 0, 'fixed_point_theory': {1}, 'fixed_point_theory_closure': {1, 3, 4, 5, -6, -2}, 'fixed_point_theory_axioms': [{1}], 'achievements_evolution': [0, 0.9704897953734105, 0.986734693877551, 0.9908163265306122, 0.9918367346938776, 0.9918367346938776, 0.9918367346938776, 0.9918367346938776], 'fixed_point_dia_consistent': True, 'init_final_coms_simple_hamming': 5, 'init_final_coms_hamming': 4, 'init_final_coms_contradictions': 1, 'init_final_coms_expansions': 2, 'init_final_coms_contractions': 1, 'init_final_coms_identities': 3, 'random_choices': [1], 'n_random_choices': 1, 'coms_evolution': [{3, 4, 5, 6, 7}, {1, 3, 4, 5, 7, -6, -2}, {1, 3, 4, 5, -6, -2}, {1, 3, 4, 5, -6, -2}], 'theory_evolution': [{1, 7}, {1}, {1}, {1}], 'process_length': 8}.\n"
     ]
    }
   ],
   "source": [
    "from rethon.ensemble_generation import SimpleEnsembleGenerator \n",
    "\n",
    "ensemble_gen = SimpleEnsembleGenerator(arguments_list = dia_structure_list, \n",
    "                                 n_sentence_pool = n,\n",
    "                                 initial_commitments_list = coms_list)\n",
    "# looping through the ensemble using the item_iter\n",
    "for model_run_data_items in ensemble_gen.ensemble_items_iter():\n",
    "    print(f\"The model run produced the following data items:  {model_run_data_items}.\")"
   ]
  },
  {
   "cell_type": "markdown",
   "metadata": {},
   "source": [
    "### Storing ensemble data as CSV files"
   ]
  },
  {
   "cell_type": "markdown",
   "metadata": {},
   "source": [
    "You can save the created data to csv files to analyse them later (e.g. by using [pandas](https://pandas.pydata.org/docs/index.html)):"
   ]
  },
  {
   "cell_type": "code",
   "execution_count": 7,
   "metadata": {},
   "outputs": [],
   "source": [
    "from os import getcwd\n",
    "\n",
    "ensemble_gen.ensemble_items_to_csv(\n",
    "                              output_file_name = 'data_output.csv',\n",
    "                              output_dir_name = getcwd(),\n",
    "                              archive = True, # save the csv as archived tar.gz\n",
    "                              save_preliminary_results = True, # will create preliminary csv-data sets \n",
    "                              preliminary_results_interval = 50)"
   ]
  },
  {
   "cell_type": "markdown",
   "metadata": {},
   "source": [
    "### Complex scenarios of creating new data items"
   ]
  },
  {
   "cell_type": "markdown",
   "metadata": {},
   "source": [
    "The ensemble generator provides additional functionalities for defining data items. In particular, you can store objects in the generator that can be reused in the definition of your data items. If you have resource-intensive operations you might prefer to reuse calculated data. \n",
    "\n",
    "*Consider the following example:* The algorithm will loop through all provided dialectical structures, initial conditions and model-parameter sets. If you define a data item that will calculate data on the dialectical structure alone, this data will be re-calculated for a particular dialectical structure for every model run that is based on that dialectical structure. In the case that you have 50 initial commitments and 50 different model-parameter sets, the same data is being calculated 2500 times. \n",
    "\n",
    "Instead, you can calculate this data once for every dialectical structure, store it in the ensemble generator object and use this data in the definition of the data item. You can do this by simply overwriting a function of `EnsembleGenerator`: "
   ]
  },
  {
   "cell_type": "code",
   "execution_count": 10,
   "metadata": {},
   "outputs": [
    {
     "name": "stdout",
     "output_type": "stream",
     "text": [
      "The model run produced the following data items:  {'ds_number_of_args': 8}.\n",
      "The model run produced the following data items:  {'ds_number_of_args': 8}.\n"
     ]
    }
   ],
   "source": [
    "from rethon.ensemble_generation import EnsembleGenerator \n",
    "\n",
    "class StoreNArgsEnsembleGenerator(EnsembleGenerator):\n",
    "\n",
    "    # overwriting the method that initializes storing objects based on dialectical structures\n",
    "    def init_tau_fields(self, dialectical_structure):\n",
    "        super().init_tau_fields(dialectical_structure)\n",
    "        # add the number of arguments as an object to the ensemble generator\n",
    "        self.add_obj('ds_number_of_args', len(dialectical_structure.get_arguments()))\n",
    "        \n",
    "# the standard example with a sentence pool n=7\n",
    "n = 7\n",
    "arguments = [[1, 3],[1, 4],[1, 5],[1, -6], [2, -4],[2, 5],[2, 6],[2, 7]]\n",
    "dia_structure_list = [arguments]\n",
    "init_coms_1 = {3, 4, 5}\n",
    "init_coms_2 = {3, 4, 5, 6, 7}\n",
    "coms_list = [init_coms_1, init_coms_2]\n",
    "\n",
    "# using the new class\n",
    "ensemble_gen = StoreNArgsEnsembleGenerator(arguments_list = dia_structure_list, \n",
    "                                           n_sentence_pool = n,\n",
    "                                           initial_commitments_list = coms_list)\n",
    "\n",
    "# adding the number of arguments as data item by accessing the stored object\n",
    "ensemble_gen.add_item('ds_number_of_args', lambda x: x.get_obj('ds_number_of_args'))\n",
    "\n",
    "# looping through the ensemble using the item_iter\n",
    "for model_run_data_items in ensemble_gen.ensemble_items_iter():\n",
    "    print(f\"The model run produced the following data items:  {model_run_data_items}.\")"
   ]
  },
  {
   "cell_type": "markdown",
   "metadata": {},
   "source": [
    "In a similar way you can overwrite the following methods:\n",
    "\n",
    "+ `init_re_start_fields`: Data items that are calculated based on the dialectical structure and the initial commitments alone.\n",
    "+ `init_re_final_fields`: Data items that are calculated based on the dialectical structure and the resulting re process (including the evolution of the process).\n",
    "+ `init_ensemble_fields`: Data items that are calculated based on the dialectical structure and the resulting re process with all its branches (works only if branching is switched on)."
   ]
  },
  {
   "cell_type": "code",
   "execution_count": null,
   "metadata": {},
   "outputs": [],
   "source": []
  }
 ],
 "metadata": {
  "kernelspec": {
   "display_name": "py38-kernel",
   "language": "python",
   "name": "py38-kernel"
  },
  "language_info": {
   "codemirror_mode": {
    "name": "ipython",
    "version": 3
   },
   "file_extension": ".py",
   "mimetype": "text/x-python",
   "name": "python",
   "nbconvert_exporter": "python",
   "pygments_lexer": "ipython3",
   "version": "3.8.8"
  }
 },
 "nbformat": 4,
 "nbformat_minor": 4
}
